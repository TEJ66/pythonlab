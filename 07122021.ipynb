{
  "nbformat": 4,
  "nbformat_minor": 0,
  "metadata": {
    "colab": {
      "name": "07122021.ipynb",
      "provenance": [],
      "collapsed_sections": [],
      "authorship_tag": "ABX9TyPG5HgSsSxfex6wbgbT4/WS",
      "include_colab_link": true
    },
    "kernelspec": {
      "name": "python3",
      "display_name": "Python 3"
    },
    "language_info": {
      "name": "python"
    }
  },
  "cells": [
    {
      "cell_type": "markdown",
      "metadata": {
        "id": "view-in-github",
        "colab_type": "text"
      },
      "source": [
        "<a href=\"https://colab.research.google.com/github/TEJ66/pythonlab/blob/main/07122021.ipynb\" target=\"_parent\"><img src=\"https://colab.research.google.com/assets/colab-badge.svg\" alt=\"Open In Colab\"/></a>"
      ]
    },
    {
      "cell_type": "code",
      "metadata": {
        "colab": {
          "base_uri": "https://localhost:8080/"
        },
        "id": "xPHfw-Pm0hwV",
        "outputId": "f8593ab7-586d-4c9b-e376-5a3555b94784"
      },
      "source": [
        "c2=complex(2,5)\n",
        "print(c2)\n",
        "\n"
      ],
      "execution_count": 2,
      "outputs": [
        {
          "output_type": "stream",
          "name": "stdout",
          "text": [
            "(2+5j)\n"
          ]
        }
      ]
    },
    {
      "cell_type": "code",
      "metadata": {
        "colab": {
          "base_uri": "https://localhost:8080/"
        },
        "id": "Hq1yfL7O1Q9J",
        "outputId": "b7172528-84c2-4c5a-efa0-81214fbc7d73"
      },
      "source": [
        "print(complex(7,8))"
      ],
      "execution_count": 3,
      "outputs": [
        {
          "output_type": "stream",
          "name": "stdout",
          "text": [
            "(7+8j)\n"
          ]
        }
      ]
    },
    {
      "cell_type": "code",
      "metadata": {
        "colab": {
          "base_uri": "https://localhost:8080/"
        },
        "id": "Vx0YAJiu1bW0",
        "outputId": "bfa85ab5-fa91-46a9-a457-042b799bf1c9"
      },
      "source": [
        "print(complex(-13,55))"
      ],
      "execution_count": 4,
      "outputs": [
        {
          "output_type": "stream",
          "name": "stdout",
          "text": [
            "(-13+55j)\n"
          ]
        }
      ]
    },
    {
      "cell_type": "code",
      "metadata": {
        "colab": {
          "base_uri": "https://localhost:8080/"
        },
        "id": "yo6PwlIu2VZ9",
        "outputId": "cfdb710b-d2fb-4c4f-e0f3-c0b2f56aba2f"
      },
      "source": [
        "c5=complex(3,4)\n",
        "print(c5)"
      ],
      "execution_count": 6,
      "outputs": [
        {
          "output_type": "stream",
          "name": "stdout",
          "text": [
            "(3+4j)\n"
          ]
        }
      ]
    },
    {
      "cell_type": "code",
      "metadata": {
        "colab": {
          "base_uri": "https://localhost:8080/"
        },
        "id": "FY5X0VpJ2xnU",
        "outputId": "4f2fa9b6-4c19-4be8-ce71-9a0f4725aed5"
      },
      "source": [
        "c8=2+4j\n",
        "print(c8)"
      ],
      "execution_count": 7,
      "outputs": [
        {
          "output_type": "stream",
          "name": "stdout",
          "text": [
            "(2+4j)\n"
          ]
        }
      ]
    },
    {
      "cell_type": "code",
      "metadata": {
        "colab": {
          "base_uri": "https://localhost:8080/"
        },
        "id": "EYgAjc1B267T",
        "outputId": "9c73ec75-eca5-49f1-fddd-bfc1865922af"
      },
      "source": [
        "print(c2+c5)"
      ],
      "execution_count": 8,
      "outputs": [
        {
          "output_type": "stream",
          "name": "stdout",
          "text": [
            "(5+9j)\n"
          ]
        }
      ]
    },
    {
      "cell_type": "code",
      "metadata": {
        "colab": {
          "base_uri": "https://localhost:8080/"
        },
        "id": "LXiGkojK3FMz",
        "outputId": "77294006-21ea-462e-c030-b534fae988a2"
      },
      "source": [
        "print(123456789123456789)"
      ],
      "execution_count": 12,
      "outputs": [
        {
          "output_type": "stream",
          "name": "stdout",
          "text": [
            "123456789123456789\n"
          ]
        }
      ]
    },
    {
      "cell_type": "code",
      "metadata": {
        "colab": {
          "base_uri": "https://localhost:8080/"
        },
        "id": "gQm3Ucs83bH-",
        "outputId": "e0a96c89-45f3-493b-e356-bdf339625271"
      },
      "source": [
        "f1=1.123456789\n",
        "print(f1)"
      ],
      "execution_count": 15,
      "outputs": [
        {
          "output_type": "stream",
          "name": "stdout",
          "text": [
            "1.123456789\n"
          ]
        }
      ]
    },
    {
      "cell_type": "code",
      "metadata": {
        "colab": {
          "base_uri": "https://localhost:8080/"
        },
        "id": "vakX09Ue3wZb",
        "outputId": "1d5bd831-ce09-486a-97e1-22296e9dbed7"
      },
      "source": [
        "a=[]\n",
        "print(a)"
      ],
      "execution_count": 20,
      "outputs": [
        {
          "output_type": "stream",
          "name": "stdout",
          "text": [
            "[]\n"
          ]
        }
      ]
    },
    {
      "cell_type": "code",
      "metadata": {
        "colab": {
          "base_uri": "https://localhost:8080/"
        },
        "id": "Ik3WtxdR4L9M",
        "outputId": "303a8598-1b1f-46b4-ecf3-1a4a6607c4e2"
      },
      "source": [
        "a=[9,9.9,\"list\"]\n",
        "print(a)"
      ],
      "execution_count": 21,
      "outputs": [
        {
          "output_type": "stream",
          "name": "stdout",
          "text": [
            "[9, 9.9, 'list']\n"
          ]
        }
      ]
    },
    {
      "cell_type": "code",
      "metadata": {
        "colab": {
          "base_uri": "https://localhost:8080/"
        },
        "id": "vxEPkaGp4WuE",
        "outputId": "ab770bfd-2e06-4e22-9588-12482b409d2f"
      },
      "source": [
        "t=(\"tupple\",3,6)\n",
        "print(t)"
      ],
      "execution_count": 22,
      "outputs": [
        {
          "output_type": "stream",
          "name": "stdout",
          "text": [
            "('tupple', 3, 6)\n"
          ]
        }
      ]
    },
    {
      "cell_type": "code",
      "metadata": {
        "colab": {
          "base_uri": "https://localhost:8080/"
        },
        "id": "6pErv5-14xwb",
        "outputId": "a302a7d8-e8aa-47b3-c262-6f112bead31e"
      },
      "source": [
        "s=(\"'A multi string'\")\n",
        "print(s)"
      ],
      "execution_count": 23,
      "outputs": [
        {
          "output_type": "stream",
          "name": "stdout",
          "text": [
            "'A multi string'\n"
          ]
        }
      ]
    },
    {
      "cell_type": "code",
      "metadata": {
        "colab": {
          "base_uri": "https://localhost:8080/"
        },
        "id": "baS4zYoK5IVs",
        "outputId": "f5e3f150-3505-440d-f37c-095d1467e8eb"
      },
      "source": [
        "sed={3,3,4,4,5,5}\n",
        "print(sed)"
      ],
      "execution_count": 27,
      "outputs": [
        {
          "output_type": "stream",
          "name": "stdout",
          "text": [
            "{3, 4, 5}\n"
          ]
        }
      ]
    },
    {
      "cell_type": "code",
      "metadata": {
        "colab": {
          "base_uri": "https://localhost:8080/"
        },
        "id": "2yh9nqTq6QSp",
        "outputId": "d9b0e4e7-bfeb-4912-c59e-ef380a7baed4"
      },
      "source": [
        "d={3:'key',4:'key'}\n",
        "print(d)"
      ],
      "execution_count": 29,
      "outputs": [
        {
          "output_type": "stream",
          "name": "stdout",
          "text": [
            "{3: 'key', 4: 'key'}\n"
          ]
        }
      ]
    },
    {
      "cell_type": "code",
      "metadata": {
        "colab": {
          "base_uri": "https://localhost:8080/"
        },
        "id": "0rVgCAkj65Q7",
        "outputId": "663c910e-5b5e-4c12-e8a1-229bd3c72208"
      },
      "source": [
        "d={3:'India'}\n",
        "print(d)"
      ],
      "execution_count": 30,
      "outputs": [
        {
          "output_type": "stream",
          "name": "stdout",
          "text": [
            "{3: 'India'}\n"
          ]
        }
      ]
    },
    {
      "cell_type": "code",
      "metadata": {
        "id": "Hqguo9js7Jmy"
      },
      "source": [
        ""
      ],
      "execution_count": null,
      "outputs": []
    }
  ]
}