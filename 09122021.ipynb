{
  "nbformat": 4,
  "nbformat_minor": 0,
  "metadata": {
    "colab": {
      "name": "09122021.ipynb",
      "provenance": [],
      "authorship_tag": "ABX9TyOXcThJXFH8GwOuq4zRSne9",
      "include_colab_link": true
    },
    "kernelspec": {
      "name": "python3",
      "display_name": "Python 3"
    },
    "language_info": {
      "name": "python"
    }
  },
  "cells": [
    {
      "cell_type": "markdown",
      "metadata": {
        "id": "view-in-github",
        "colab_type": "text"
      },
      "source": [
        "<a href=\"https://colab.research.google.com/github/TEJ66/pythonlab/blob/main/09122021.ipynb\" target=\"_parent\"><img src=\"https://colab.research.google.com/assets/colab-badge.svg\" alt=\"Open In Colab\"/></a>"
      ]
    },
    {
      "cell_type": "code",
      "execution_count": 1,
      "metadata": {
        "colab": {
          "base_uri": "https://localhost:8080/"
        },
        "id": "DjQLOyrGAA0u",
        "outputId": "3f4f5077-c490-4cd3-9526-ba2e91e5fe31"
      },
      "outputs": [
        {
          "output_type": "stream",
          "name": "stdout",
          "text": [
            "hello\n"
          ]
        }
      ],
      "source": [
        "print(\"hello\")"
      ]
    },
    {
      "cell_type": "code",
      "source": [
        "a=\"hello\"\n",
        "print(a)\n",
        "print(len(a))"
      ],
      "metadata": {
        "colab": {
          "base_uri": "https://localhost:8080/"
        },
        "id": "OcoToi5NAmpu",
        "outputId": "ba753cd7-04cc-45f7-b272-94b6bd80f4ac"
      },
      "execution_count": 4,
      "outputs": [
        {
          "output_type": "stream",
          "name": "stdout",
          "text": [
            "hello\n",
            "5\n"
          ]
        }
      ]
    },
    {
      "cell_type": "code",
      "source": [
        "a=\"\"\"Lorem ipsum dolor sit amet,\n",
        "consectetur adipicing elite,\n",
        "sed do ismoud temper incididunt\n",
        "ut labore at dolore magna eliqua.\"\"\"\n",
        "print(a)\n",
        "print(len(a))"
      ],
      "metadata": {
        "colab": {
          "base_uri": "https://localhost:8080/"
        },
        "id": "uzCWidO8A3ib",
        "outputId": "ed3579c5-ed2f-4f27-fcad-1cb82d2dd2e0"
      },
      "execution_count": 5,
      "outputs": [
        {
          "output_type": "stream",
          "name": "stdout",
          "text": [
            "Lorem ipsum dolor sit amet,\n",
            "consectetur adipicing elite,\n",
            "sed do ismoud temper incididunt\n",
            "ut labore at dolore magna eliqua.\n",
            "122\n"
          ]
        }
      ]
    },
    {
      "cell_type": "code",
      "source": [
        "a=\"Hello,world\"\n",
        "print(a[0])"
      ],
      "metadata": {
        "colab": {
          "base_uri": "https://localhost:8080/"
        },
        "id": "4LEyckP6CAsQ",
        "outputId": "21284299-4eab-4852-909e-7adbc669bcff"
      },
      "execution_count": 10,
      "outputs": [
        {
          "output_type": "stream",
          "name": "stdout",
          "text": [
            "H\n"
          ]
        }
      ]
    },
    {
      "cell_type": "code",
      "source": [
        "a=[\"Hello\",\"World\"]\n",
        "print(a[0])\n",
        "a.insert(1,\"Tejesh\")\n",
        "print(a)"
      ],
      "metadata": {
        "colab": {
          "base_uri": "https://localhost:8080/"
        },
        "id": "GLj6qOSSDaHR",
        "outputId": "875c4f13-ea53-4400-b617-8c503dc13259"
      },
      "execution_count": 15,
      "outputs": [
        {
          "output_type": "stream",
          "name": "stdout",
          "text": [
            "Hello\n",
            "['Hello', 'Tejesh', 'World']\n"
          ]
        }
      ]
    },
    {
      "cell_type": "code",
      "source": [
        "a=\"Hello,World\"\n",
        "print(a[-1])"
      ],
      "metadata": {
        "colab": {
          "base_uri": "https://localhost:8080/"
        },
        "id": "1CVJDQKDEjo9",
        "outputId": "99fac3f0-b3eb-41dd-8fc8-750749836a87"
      },
      "execution_count": 17,
      "outputs": [
        {
          "output_type": "stream",
          "name": "stdout",
          "text": [
            "d\n"
          ]
        }
      ]
    },
    {
      "cell_type": "code",
      "source": [
        "for x in \"BANANA\":\n",
        " print(x)"
      ],
      "metadata": {
        "colab": {
          "base_uri": "https://localhost:8080/"
        },
        "id": "iapMTu8SEZ0d",
        "outputId": "33588f79-bb4e-4a92-d390-5b89bdb53bd3"
      },
      "execution_count": 22,
      "outputs": [
        {
          "output_type": "stream",
          "name": "stdout",
          "text": [
            "B\n",
            "A\n",
            "N\n",
            "A\n",
            "N\n",
            "A\n"
          ]
        }
      ]
    },
    {
      "cell_type": "code",
      "source": [
        "for p in \"TEJESH\":\n",
        "   print(p)"
      ],
      "metadata": {
        "colab": {
          "base_uri": "https://localhost:8080/"
        },
        "id": "w7npuMm2FzwY",
        "outputId": "6d41333b-096c-48a0-fdc1-7ea415708b07"
      },
      "execution_count": 23,
      "outputs": [
        {
          "output_type": "stream",
          "name": "stdout",
          "text": [
            "T\n",
            "E\n",
            "J\n",
            "E\n",
            "S\n",
            "H\n"
          ]
        }
      ]
    },
    {
      "cell_type": "code",
      "source": [
        "typ = \"Apple is a fruit\"\n",
        "print(\"Apple\" in typ)\n",
        "if \"Apple\" in typ:\n",
        "  print(\"Yes,'Apple is present.'\")"
      ],
      "metadata": {
        "colab": {
          "base_uri": "https://localhost:8080/"
        },
        "id": "jkgxturPG5Iz",
        "outputId": "51628b94-0672-4d7d-aaa2-d52d5b15bf56"
      },
      "execution_count": 25,
      "outputs": [
        {
          "output_type": "stream",
          "name": "stdout",
          "text": [
            "True\n",
            "Yes,'Apple is present.'\n"
          ]
        }
      ]
    },
    {
      "cell_type": "code",
      "source": [
        "typ=\"Mango is a fruit\"\n",
        "print(\"Apple\" in typ)\n",
        "if \"Apple\" not in typ:\n",
        "   print(\"No,'Apple' is not present\")"
      ],
      "metadata": {
        "colab": {
          "base_uri": "https://localhost:8080/"
        },
        "id": "OOVYo3IRH_rr",
        "outputId": "f4650fed-200c-4615-a608-b94fd45488a6"
      },
      "execution_count": 28,
      "outputs": [
        {
          "output_type": "stream",
          "name": "stdout",
          "text": [
            "False\n",
            "No,'Apple' is not present\n"
          ]
        }
      ]
    },
    {
      "cell_type": "code",
      "source": [
        "a=(\"Hello,    Tejesh!\")\n",
        "print(len(a))"
      ],
      "metadata": {
        "colab": {
          "base_uri": "https://localhost:8080/"
        },
        "id": "-kAOlKeSJHzb",
        "outputId": "e1da77b8-3881-4364-f88e-86a57a06fdbb"
      },
      "execution_count": 29,
      "outputs": [
        {
          "output_type": "stream",
          "name": "stdout",
          "text": [
            "17\n"
          ]
        }
      ]
    },
    {
      "cell_type": "code",
      "source": [
        "import pandas\n",
        "data = {\n",
        "    'cars' :[\"BMW\",\"MERCEDESS\",\"AUDI\"],\n",
        "    'passings' : [5, 6, 8] \n",
        "}\n",
        "total = pandas.DataFrame(data)\n",
        "print(total)"
      ],
      "metadata": {
        "colab": {
          "base_uri": "https://localhost:8080/"
        },
        "id": "wzSV9L3HTC7R",
        "outputId": "cdb05f5d-501b-4efc-bba9-e3ea26bff4d0"
      },
      "execution_count": 35,
      "outputs": [
        {
          "output_type": "stream",
          "name": "stdout",
          "text": [
            "        cars  passings\n",
            "0        BMW         5\n",
            "1  MERCEDESS         6\n",
            "2       AUDI         8\n"
          ]
        }
      ]
    },
    {
      "cell_type": "code",
      "source": [
        "import pandas \n",
        "print(\"The decreasment of users\")\n",
        "data = {\n",
        "    \"companies\" : [\"AIRTEL\",\"JIO\",\"VODAFONE\"],\n",
        "    \"DROPPING\" : [35000,25000,10522]\n",
        "}\n",
        "total = pandas.DataFrame(data)\n",
        "print(total)"
      ],
      "metadata": {
        "colab": {
          "base_uri": "https://localhost:8080/"
        },
        "id": "FXRA0rowUpaq",
        "outputId": "f43913f7-68b3-4545-c464-eec6772399a9"
      },
      "execution_count": 38,
      "outputs": [
        {
          "output_type": "stream",
          "name": "stdout",
          "text": [
            "The decreasment of users\n",
            "  companies  DROPPING\n",
            "0    AIRTEL     35000\n",
            "1       JIO     25000\n",
            "2  VODAFONE     10522\n"
          ]
        }
      ]
    },
    {
      "cell_type": "code",
      "source": [
        "import pandas as hd\n",
        "data = {\n",
        "     \"companies\" : [\"AIRTEL\",\"JIO\",\"VODAFONE\"],\n",
        "    \"DROPPING\" : [35000,25000,10522]\n",
        "    \n",
        "}\n",
        "TOTAL = hd.DataFrame(data)\n",
        "print(TOTAL)"
      ],
      "metadata": {
        "colab": {
          "base_uri": "https://localhost:8080/"
        },
        "id": "p9ZGrenuWhXa",
        "outputId": "9567f516-7718-49f2-aa5c-d1737eb59a3a"
      },
      "execution_count": 42,
      "outputs": [
        {
          "output_type": "stream",
          "name": "stdout",
          "text": [
            "  companies  DROPPING\n",
            "0    AIRTEL     35000\n",
            "1       JIO     25000\n",
            "2  VODAFONE     10522\n"
          ]
        }
      ]
    },
    {
      "cell_type": "code",
      "source": [
        ""
      ],
      "metadata": {
        "id": "anq-eFacX4Uv"
      },
      "execution_count": null,
      "outputs": []
    }
  ]
}