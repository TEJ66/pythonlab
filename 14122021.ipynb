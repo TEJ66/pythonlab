{
  "nbformat": 4,
  "nbformat_minor": 0,
  "metadata": {
    "colab": {
      "name": "14122021.ipynb",
      "provenance": [],
      "collapsed_sections": [],
      "authorship_tag": "ABX9TyPKC3yfNBdxza2Jr3H83NJz",
      "include_colab_link": true
    },
    "kernelspec": {
      "name": "python3",
      "display_name": "Python 3"
    },
    "language_info": {
      "name": "python"
    }
  },
  "cells": [
    {
      "cell_type": "markdown",
      "metadata": {
        "id": "view-in-github",
        "colab_type": "text"
      },
      "source": [
        "<a href=\"https://colab.research.google.com/github/TEJ66/pythonlab/blob/main/14122021.ipynb\" target=\"_parent\"><img src=\"https://colab.research.google.com/assets/colab-badge.svg\" alt=\"Open In Colab\"/></a>"
      ]
    },
    {
      "cell_type": "code",
      "source": [
        "print(\"Hello\")"
      ],
      "metadata": {
        "colab": {
          "base_uri": "https://localhost:8080/"
        },
        "id": "nK_gUpjk5VXH",
        "outputId": "d41157c4-992a-46f6-fc41-af6b95b3dd87"
      },
      "execution_count": 8,
      "outputs": [
        {
          "output_type": "stream",
          "name": "stdout",
          "text": [
            "Hello\n"
          ]
        }
      ]
    },
    {
      "cell_type": "code",
      "source": [
        "Text = \"\"\"Jhony Jhony Yes Papa,\n",
        "Eating sugar no papa,\n",
        "telling lie no papa,\n",
        "open your mouth! hahaha\"\"\"\n",
        "print(Text)\n",
        "print(len(Text))"
      ],
      "metadata": {
        "colab": {
          "base_uri": "https://localhost:8080/"
        },
        "id": "49G_Nz9L6Pam",
        "outputId": "905e84c9-7a3f-422a-e087-00f4bada5a1c"
      },
      "execution_count": 12,
      "outputs": [
        {
          "output_type": "stream",
          "name": "stdout",
          "text": [
            "Jhony Jhony Yes Papa,\n",
            "Eating sugar no papa,\n",
            "telling lie no papa,\n",
            "open your mouth! hahaha\n",
            "88\n"
          ]
        }
      ]
    },
    {
      "cell_type": "code",
      "source": [
        "X=\"banana\"\n",
        "Y=\"strawberry\"\n",
        "print(X)\n",
        "print(Y)"
      ],
      "metadata": {
        "colab": {
          "base_uri": "https://localhost:8080/"
        },
        "id": "We_f6eJD7L0l",
        "outputId": "3faa192d-e2fd-4a1c-bb35-d78536d25208"
      },
      "execution_count": 10,
      "outputs": [
        {
          "output_type": "stream",
          "name": "stdout",
          "text": [
            "banana\n",
            "strawberry\n"
          ]
        }
      ]
    },
    {
      "cell_type": "code",
      "source": [
        "for x in \"INDIA\":\n",
        " print(x)\n",
        "for y in \"PAKISTAN\":\n",
        "  print(y)\n",
        "\n"
      ],
      "metadata": {
        "colab": {
          "base_uri": "https://localhost:8080/"
        },
        "id": "AsJpBbAO72SF",
        "outputId": "244a2321-b556-4806-e3eb-bfad375975e4"
      },
      "execution_count": 21,
      "outputs": [
        {
          "output_type": "stream",
          "name": "stdout",
          "text": [
            "I\n",
            "N\n",
            "D\n",
            "I\n",
            "A\n",
            "P\n",
            "A\n",
            "K\n",
            "I\n",
            "S\n",
            "T\n",
            "A\n",
            "N\n"
          ]
        }
      ]
    },
    {
      "cell_type": "code",
      "source": [
        "a=(\"MY NAME IS TEJESH\")\n",
        "print(a[-8])"
      ],
      "metadata": {
        "colab": {
          "base_uri": "https://localhost:8080/"
        },
        "id": "BUg9ASn-9IAB",
        "outputId": "029f93c5-81d9-419c-9f73-502a2e521047"
      },
      "execution_count": 65,
      "outputs": [
        {
          "output_type": "stream",
          "name": "stdout",
          "text": [
            "S\n"
          ]
        }
      ]
    },
    {
      "cell_type": "code",
      "source": [
        "txt = \"TITANIC IS A LARGE DESTROYED SHIP\"\n",
        "print(\"DESTROYED\" in txt)\n"
      ],
      "metadata": {
        "colab": {
          "base_uri": "https://localhost:8080/"
        },
        "id": "55jfuTU09cWc",
        "outputId": "7b89e55d-e501-4d55-b147-78392d1ba052"
      },
      "execution_count": 26,
      "outputs": [
        {
          "output_type": "stream",
          "name": "stdout",
          "text": [
            "True\n"
          ]
        }
      ]
    },
    {
      "cell_type": "code",
      "source": [
        "txt = \"GOLD IS AN ORNAMENT\"\n",
        "print(\"not\" in txt)"
      ],
      "metadata": {
        "colab": {
          "base_uri": "https://localhost:8080/"
        },
        "id": "pQqmSiiM-BJm",
        "outputId": "eaa565de-77cf-4e7d-b90f-2890f665f0aa"
      },
      "execution_count": 27,
      "outputs": [
        {
          "output_type": "stream",
          "name": "stdout",
          "text": [
            "False\n"
          ]
        }
      ]
    },
    {
      "cell_type": "code",
      "source": [
        "drop = \"DIAMONDS IS A PRECIOUS ITEM\"\n",
        "print (\"GOLD\" not in drop)\n",
        "print (\"DIAMONDS\" in drop)"
      ],
      "metadata": {
        "colab": {
          "base_uri": "https://localhost:8080/"
        },
        "id": "rWskq_Bv-M0q",
        "outputId": "43c92a0d-640e-4633-8999-8c354e4191b5"
      },
      "execution_count": 30,
      "outputs": [
        {
          "output_type": "stream",
          "name": "stdout",
          "text": [
            "True\n",
            "True\n"
          ]
        }
      ]
    },
    {
      "cell_type": "code",
      "source": [
        "hacker = \"your computer is hacked\"\n",
        "print(\"not hacked\" in hacker)\n",
        "print(\"hacked\" in hacker)"
      ],
      "metadata": {
        "colab": {
          "base_uri": "https://localhost:8080/"
        },
        "id": "x8mDi73n_BXH",
        "outputId": "f73291c0-d609-4d2a-8732-2abda936f550"
      },
      "execution_count": 31,
      "outputs": [
        {
          "output_type": "stream",
          "name": "stdout",
          "text": [
            "False\n",
            "True\n"
          ]
        }
      ]
    },
    {
      "cell_type": "code",
      "source": [
        "note = \"these items are free\"\n",
        "if \"free\" in note:\n",
        " print(\"yes, 'free' is present\")\n",
        "if \"not free\" in note:\n",
        " print (\"no, 'not free' is not present\")"
      ],
      "metadata": {
        "colab": {
          "base_uri": "https://localhost:8080/"
        },
        "id": "nMakKm-O_b39",
        "outputId": "43bee442-e7ba-44c7-d64e-f70d7d959841"
      },
      "execution_count": 40,
      "outputs": [
        {
          "output_type": "stream",
          "name": "stdout",
          "text": [
            "yes, 'free' is present\n"
          ]
        }
      ]
    },
    {
      "cell_type": "code",
      "source": [
        "a = 1\n",
        "b = 2\n",
        "c = 3\n",
        "if a>b:\n",
        "  print(\"a is largest\")\n",
        "if b>c:\n",
        "  print(\"b is largest\")\n",
        "else:\n",
        "  print(\"c is largest\")"
      ],
      "metadata": {
        "colab": {
          "base_uri": "https://localhost:8080/"
        },
        "id": "fF5NBNsGB99G",
        "outputId": "fabf1dfc-d2cb-442b-d078-52dc01d3f64f"
      },
      "execution_count": 45,
      "outputs": [
        {
          "output_type": "stream",
          "name": "stdout",
          "text": [
            "c is largest\n"
          ]
        }
      ]
    }
  ]
}