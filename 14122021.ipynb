{
  "nbformat": 4,
  "nbformat_minor": 0,
  "metadata": {
    "colab": {
      "name": "14122021.ipynb",
      "provenance": [],
      "authorship_tag": "ABX9TyNEIx1XMoKA3PcEPqjTsIQl",
      "include_colab_link": true
    },
    "kernelspec": {
      "name": "python3",
      "display_name": "Python 3"
    },
    "language_info": {
      "name": "python"
    }
  },
  "cells": [
    {
      "cell_type": "markdown",
      "metadata": {
        "id": "view-in-github",
        "colab_type": "text"
      },
      "source": [
        "<a href=\"https://colab.research.google.com/github/TEJ66/pythonlab/blob/main/14122021.ipynb\" target=\"_parent\"><img src=\"https://colab.research.google.com/assets/colab-badge.svg\" alt=\"Open In Colab\"/></a>"
      ]
    },
    {
      "cell_type": "code",
      "execution_count": 9,
      "metadata": {
        "colab": {
          "base_uri": "https://localhost:8080/"
        },
        "id": "edEbT88ptv0g",
        "outputId": "7041f3ac-db79-46d0-f2cf-0a34479020a6"
      },
      "outputs": [
        {
          "output_type": "stream",
          "name": "stdout",
          "text": [
            "ENTER YOUR FIRST NUMBER :5\n",
            "ENTER YOUR SECOND NUMBER :6\n",
            "TOTAL VALUE : 11.0\n"
          ]
        }
      ],
      "source": [
        "num1 =float(input(\"ENTER YOUR FIRST NUMBER :\"))\n",
        "num2 = float(input(\"ENTER YOUR SECOND NUMBER :\"))\n",
        "\n",
        "sum = float(num1)+float(num2)\n",
        "                              \n",
        "print(\"TOTAL VALUE :\",sum)"
      ]
    }
  ]
}