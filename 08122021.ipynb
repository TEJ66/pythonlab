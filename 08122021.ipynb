{
  "nbformat": 4,
  "nbformat_minor": 0,
  "metadata": {
    "colab": {
      "name": "08122021.ipynb",
      "provenance": [],
      "authorship_tag": "ABX9TyO3jDd6qzQOfZT6g29ubS8j",
      "include_colab_link": true
    },
    "kernelspec": {
      "name": "python3",
      "display_name": "Python 3"
    },
    "language_info": {
      "name": "python"
    }
  },
  "cells": [
    {
      "cell_type": "markdown",
      "metadata": {
        "id": "view-in-github",
        "colab_type": "text"
      },
      "source": [
        "<a href=\"https://colab.research.google.com/github/TEJ66/pythonlab/blob/main/08122021.ipynb\" target=\"_parent\"><img src=\"https://colab.research.google.com/assets/colab-badge.svg\" alt=\"Open In Colab\"/></a>"
      ]
    },
    {
      "cell_type": "code",
      "execution_count": 6,
      "metadata": {
        "colab": {
          "base_uri": "https://localhost:8080/"
        },
        "id": "JiZNVqsi53sz",
        "outputId": "367a63a2-53dc-40b5-a1d0-f79b649dd88d"
      },
      "outputs": [
        {
          "output_type": "stream",
          "name": "stdout",
          "text": [
            "['papaya', 'apple', 'banana', 'kiwi', 'dragonfruit']\n",
            "['papaya', 'apple', 'guava', 'strawberry', 'kiwi', 'dragonfruit']\n"
          ]
        }
      ],
      "source": [
        "thislist=[\"orange\",\"apple\",\"banana\",\"kiwi\",\"dragonfruit\"]\n",
        "thislist[0]=\"papaya\"\n",
        "print(thislist)\n",
        "thislist[2:3]=\"guava\",\"strawberry\"\n",
        "print(thislist)"
      ]
    },
    {
      "cell_type": "code",
      "source": [
        "thislist=[\"INDIA\",\"GERMANY\",\"PAKISTAN\",\"CHINA\",\"ITALY\"]\n",
        "tropical=[\"AFRICA\",\"SRILANKA\",\"SWITZERLAND\",\"BANGKOK\"]\n",
        "thislist.extend(tropical)\n",
        "print(thislist)\n"
      ],
      "metadata": {
        "colab": {
          "base_uri": "https://localhost:8080/"
        },
        "id": "VtYEJhRw6xcF",
        "outputId": "8cf9e1f7-94b8-4aa9-8634-936bb0840574"
      },
      "execution_count": 7,
      "outputs": [
        {
          "output_type": "stream",
          "name": "stdout",
          "text": [
            "['INDIA', 'GERMANY', 'PAKISTAN', 'CHINA', 'ITALY', 'AFRICA', 'SRILANKA', 'SWITZERLAND', 'BANGKOK']\n"
          ]
        }
      ]
    },
    {
      "cell_type": "code",
      "source": [
        "thislist=[\"lemon\",\"guava\",\"long\"]\n",
        "thislist.insert(2,\"dragonfruit\")\n",
        "print(thislist)"
      ],
      "metadata": {
        "colab": {
          "base_uri": "https://localhost:8080/"
        },
        "id": "FwgtSVnz8WuS",
        "outputId": "970dbc6c-b732-4535-ea11-fbb35a58af07"
      },
      "execution_count": 10,
      "outputs": [
        {
          "output_type": "stream",
          "name": "stdout",
          "text": [
            "['lemon', 'guava', 'dragonfruit', 'long']\n"
          ]
        }
      ]
    },
    {
      "cell_type": "code",
      "source": [
        "thislist=[53,143,156,35,42,65]\n",
        "thislist.sort()\n",
        "print(thislist)"
      ],
      "metadata": {
        "colab": {
          "base_uri": "https://localhost:8080/"
        },
        "id": "-eyqHJ_P-PKt",
        "outputId": "715a6ec3-462e-4c4f-d70c-1db1b8b79dbc"
      },
      "execution_count": 11,
      "outputs": [
        {
          "output_type": "stream",
          "name": "stdout",
          "text": [
            "[35, 42, 53, 65, 143, 156]\n"
          ]
        }
      ]
    },
    {
      "cell_type": "code",
      "source": [
        "thislist=[12,32,65,98,47,25,24,35,36,32,31,21,499]\n",
        "thislist.sort(reverse=True)\n",
        "print(thislist)\n",
        "thislist.sort(reverse=False)\n",
        "print(thislist)"
      ],
      "metadata": {
        "colab": {
          "base_uri": "https://localhost:8080/"
        },
        "id": "LPcibA4pBulU",
        "outputId": "3c087fcf-60de-49b0-ba0f-fc2c39ef3403"
      },
      "execution_count": 14,
      "outputs": [
        {
          "output_type": "stream",
          "name": "stdout",
          "text": [
            "[499, 98, 65, 47, 36, 35, 32, 32, 31, 25, 24, 21, 12]\n",
            "[12, 21, 24, 25, 31, 32, 32, 35, 36, 47, 65, 98, 499]\n"
          ]
        }
      ]
    },
    {
      "cell_type": "code",
      "source": [
        "list1=[5,6,7,8]\n",
        "list2=[1,2,3,4]\n",
        "list3=list1+list2\n",
        "print(list3)"
      ],
      "metadata": {
        "colab": {
          "base_uri": "https://localhost:8080/"
        },
        "id": "PVCw0IT7CkCc",
        "outputId": "cf9309e9-3332-406c-ae87-3e63a72a09af"
      },
      "execution_count": 33,
      "outputs": [
        {
          "output_type": "stream",
          "name": "stdout",
          "text": [
            "[5, 6, 7, 8, 1, 2, 3, 4]\n"
          ]
        }
      ]
    },
    {
      "cell_type": "code",
      "source": [
        "thistuple=[\"lemon\",\"orange\",\"mango\"]\n",
        "print(thistuple)"
      ],
      "metadata": {
        "colab": {
          "base_uri": "https://localhost:8080/"
        },
        "id": "-HI2zS1fGb59",
        "outputId": "e9c7bee2-2311-4236-f471-f6959fa2282d"
      },
      "execution_count": 34,
      "outputs": [
        {
          "output_type": "stream",
          "name": "stdout",
          "text": [
            "['lemon', 'orange', 'mango']\n"
          ]
        }
      ]
    },
    {
      "cell_type": "code",
      "source": [
        "thistuple=[\"apple\",\"mango\",\"strawberry\",\"strawberry\",\"cherry\",\"strawberry\",\"mango\"]\n",
        "print(thistuple)"
      ],
      "metadata": {
        "colab": {
          "base_uri": "https://localhost:8080/"
        },
        "id": "hEf0IQ6tQHwa",
        "outputId": "2ec2f01c-8e0c-4a71-d613-dbc8a1af1ff2"
      },
      "execution_count": 36,
      "outputs": [
        {
          "output_type": "stream",
          "name": "stdout",
          "text": [
            "['apple', 'mango', 'strawberry', 'strawberry', 'cherry', 'strawberry', 'mango']\n"
          ]
        }
      ]
    },
    {
      "cell_type": "code",
      "source": [
        "thistuple=[\"potato\",\"cucmber\",\"papaya\",\"mime\"]\n",
        "print(len(thistuple))"
      ],
      "metadata": {
        "colab": {
          "base_uri": "https://localhost:8080/"
        },
        "id": "5TC5QTtHRC6F",
        "outputId": "c5e472e8-fac2-4e28-e17a-6721e02b0aba"
      },
      "execution_count": 37,
      "outputs": [
        {
          "output_type": "stream",
          "name": "stdout",
          "text": [
            "4\n"
          ]
        }
      ]
    },
    {
      "cell_type": "code",
      "source": [
        "vegetables=[\"carrot\",\"onion\",\"lime\"]\n",
        "mytuple=vegetables*2\n",
        "print(mytuple)"
      ],
      "metadata": {
        "colab": {
          "base_uri": "https://localhost:8080/"
        },
        "id": "1DFOsuknRtWY",
        "outputId": "5d968a19-72c1-4235-86a5-e178f7779419"
      },
      "execution_count": 38,
      "outputs": [
        {
          "output_type": "stream",
          "name": "stdout",
          "text": [
            "['carrot', 'onion', 'lime', 'carrot', 'onion', 'lime']\n"
          ]
        }
      ]
    },
    {
      "cell_type": "code",
      "source": [
        "thisdict = {\n",
        "  \"brand\": \"Ford\",\n",
        "  \"model\": \"Mustang\",\n",
        "  \"year\": 1964\n",
        "}\n",
        "print(thisdict)"
      ],
      "metadata": {
        "colab": {
          "base_uri": "https://localhost:8080/"
        },
        "id": "Bu9awBYnScQ2",
        "outputId": "be0a9e1c-42b5-44f1-a072-9cdf55f3b804"
      },
      "execution_count": 39,
      "outputs": [
        {
          "output_type": "stream",
          "name": "stdout",
          "text": [
            "{'brand': 'Ford', 'model': 'Mustang', 'year': 1964}\n"
          ]
        }
      ]
    },
    {
      "cell_type": "code",
      "source": [
        "tuple1 = (\"a\", \"b\" , \"c\")\n",
        "tuple2 = (1, 2, 3)\n",
        "\n",
        "tuple3 = tuple1 + tuple2\n",
        "print(tuple3)"
      ],
      "metadata": {
        "colab": {
          "base_uri": "https://localhost:8080/"
        },
        "id": "V-o_xnDqUj4Y",
        "outputId": "930cbee0-b5bb-4977-b926-0469d7a65f74"
      },
      "execution_count": 40,
      "outputs": [
        {
          "output_type": "stream",
          "name": "stdout",
          "text": [
            "('a', 'b', 'c', 1, 2, 3)\n"
          ]
        }
      ]
    }
  ]
}